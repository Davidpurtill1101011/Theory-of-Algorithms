{
 "cells": [
  {
   "cell_type": "markdown",
   "id": "b3073180-5d8b-47bf-a03b-fb1687db0819",
   "metadata": {},
   "source": [
    "### Post Correspondence Problem\n",
    "***"
   ]
  },
  {
   "cell_type": "code",
   "execution_count": 1,
   "id": "9e05dd94-ca5b-4417-a241-a3a40b16f8b4",
   "metadata": {},
   "outputs": [],
   "source": [
    "#Alphabet for strings: a,b\n",
    "A = {'a','b'}"
   ]
  },
  {
   "cell_type": "code",
   "execution_count": 2,
   "id": "917c21c8-d399-4d81-a368-00b69f4aaa40",
   "metadata": {},
   "outputs": [
    {
     "data": {
      "text/plain": [
       "set"
      ]
     },
     "execution_count": 2,
     "metadata": {},
     "output_type": "execute_result"
    }
   ],
   "source": [
    "type(A)"
   ]
  },
  {
   "cell_type": "code",
   "execution_count": 3,
   "id": "155ef9f0-9d2e-4552-9eb8-fb25b0c92bec",
   "metadata": {},
   "outputs": [
    {
     "data": {
      "text/plain": [
       "True"
      ]
     },
     "execution_count": 3,
     "metadata": {},
     "output_type": "execute_result"
    }
   ],
   "source": [
    "{'a','b'} == {'b','a'}"
   ]
  },
  {
   "cell_type": "code",
   "execution_count": 4,
   "id": "77e5e568-39dc-4087-a90f-7d805827f25b",
   "metadata": {},
   "outputs": [
    {
     "data": {
      "text/plain": [
       "False"
      ]
     },
     "execution_count": 4,
     "metadata": {},
     "output_type": "execute_result"
    }
   ],
   "source": [
    "['a','b'] == ['b','a']"
   ]
  },
  {
   "cell_type": "code",
   "execution_count": 5,
   "id": "6a42e977-a0f4-44cf-aebc-08a4b9d6eceb",
   "metadata": {},
   "outputs": [
    {
     "data": {
      "text/plain": [
       "{1, 2, 3}"
      ]
     },
     "execution_count": 5,
     "metadata": {},
     "output_type": "execute_result"
    }
   ],
   "source": [
    "set([1,2,3])"
   ]
  },
  {
   "cell_type": "code",
   "execution_count": 6,
   "id": "00e00e7c-5197-4569-8c22-7e86270fadff",
   "metadata": {},
   "outputs": [
    {
     "data": {
      "text/plain": [
       "True"
      ]
     },
     "execution_count": 6,
     "metadata": {},
     "output_type": "execute_result"
    }
   ],
   "source": [
    "1 in {1,2,3}"
   ]
  },
  {
   "cell_type": "code",
   "execution_count": 7,
   "id": "8213e377-69ac-4424-adca-6111e01c61a5",
   "metadata": {},
   "outputs": [
    {
     "data": {
      "text/plain": [
       "False"
      ]
     },
     "execution_count": 7,
     "metadata": {},
     "output_type": "execute_result"
    }
   ],
   "source": [
    "'a' in {1,2,3}"
   ]
  },
  {
   "cell_type": "markdown",
   "id": "5cb13294-8446-402e-a99c-6315407cecaf",
   "metadata": {},
   "source": [
    "- when a set is defined it gives rise to a decision problem\n",
    "- The decision problem is: is a given item in the set?\n",
    "***\n",
    "### Tuples"
   ]
  },
  {
   "cell_type": "code",
   "execution_count": 8,
   "id": "8bef1071-cbe4-425c-923b-bdc4c98e048e",
   "metadata": {},
   "outputs": [
    {
     "data": {
      "text/plain": [
       "[1, 2, 3]"
      ]
     },
     "execution_count": 8,
     "metadata": {},
     "output_type": "execute_result"
    }
   ],
   "source": [
    "#List\n",
    "[1,2,3]"
   ]
  },
  {
   "cell_type": "code",
   "execution_count": 9,
   "id": "b9d54235-0672-4b4a-bfed-9d11d4469ad5",
   "metadata": {},
   "outputs": [
    {
     "data": {
      "text/plain": [
       "list"
      ]
     },
     "execution_count": 9,
     "metadata": {},
     "output_type": "execute_result"
    }
   ],
   "source": [
    "type([1,2,3])"
   ]
  },
  {
   "cell_type": "code",
   "execution_count": 10,
   "id": "50cbd139-1ed0-4da4-af4c-57ef2b6d02c7",
   "metadata": {},
   "outputs": [
    {
     "data": {
      "text/plain": [
       "(1, 2, 3)"
      ]
     },
     "execution_count": 10,
     "metadata": {},
     "output_type": "execute_result"
    }
   ],
   "source": [
    "#Tuple\n",
    "(1,2,3)"
   ]
  },
  {
   "cell_type": "code",
   "execution_count": 11,
   "id": "1c4318c2-fd83-45de-b7e2-1d23ef25b87d",
   "metadata": {},
   "outputs": [
    {
     "data": {
      "text/plain": [
       "tuple"
      ]
     },
     "execution_count": 11,
     "metadata": {},
     "output_type": "execute_result"
    }
   ],
   "source": [
    "type((1,2,3))"
   ]
  },
  {
   "cell_type": "code",
   "execution_count": 12,
   "id": "b392279f-94c2-4a84-a59d-458de3367054",
   "metadata": {},
   "outputs": [],
   "source": [
    "l = [1,2,3]"
   ]
  },
  {
   "cell_type": "code",
   "execution_count": 13,
   "id": "a62612a5-e9c0-4f59-a583-e2639604d1ce",
   "metadata": {},
   "outputs": [],
   "source": [
    "l[1] = 4"
   ]
  },
  {
   "cell_type": "code",
   "execution_count": 14,
   "id": "fc07903f-e742-4a80-a65c-e40de8a890f0",
   "metadata": {},
   "outputs": [
    {
     "data": {
      "text/plain": [
       "[1, 4, 3]"
      ]
     },
     "execution_count": 14,
     "metadata": {},
     "output_type": "execute_result"
    }
   ],
   "source": [
    "l"
   ]
  },
  {
   "cell_type": "code",
   "execution_count": 15,
   "id": "538d81fc-27e8-405a-85fa-a4150f427f37",
   "metadata": {},
   "outputs": [],
   "source": [
    "t = (1,2,3)"
   ]
  },
  {
   "cell_type": "code",
   "execution_count": 16,
   "id": "958b6c7b-34e5-4269-a4f5-0a4e6b295a83",
   "metadata": {},
   "outputs": [],
   "source": [
    "#reassign an element\n",
    "#t[1]=4\n",
    "# not going to work"
   ]
  },
  {
   "cell_type": "code",
   "execution_count": 17,
   "id": "9006ba21-7a44-4423-9be0-7addbaf24a82",
   "metadata": {},
   "outputs": [],
   "source": [
    "#hash(l)\n",
    "# cant hash a list"
   ]
  },
  {
   "cell_type": "code",
   "execution_count": 18,
   "id": "1812fe94-0ab1-41e8-a984-ba8e1d3b8725",
   "metadata": {},
   "outputs": [
    {
     "data": {
      "text/plain": [
       "529344067295497451"
      ]
     },
     "execution_count": 18,
     "metadata": {},
     "output_type": "execute_result"
    }
   ],
   "source": [
    "hash(t)"
   ]
  },
  {
   "cell_type": "code",
   "execution_count": 19,
   "id": "489b3ced-869f-44e1-a8a8-bcef6543bac7",
   "metadata": {},
   "outputs": [
    {
     "data": {
      "text/plain": [
       "'0x7589b9fe71bcceb'"
      ]
     },
     "execution_count": 19,
     "metadata": {},
     "output_type": "execute_result"
    }
   ],
   "source": [
    "hex(hash(t))"
   ]
  },
  {
   "cell_type": "code",
   "execution_count": 20,
   "id": "afbd39b9-417e-47d1-9d05-df4726e71941",
   "metadata": {},
   "outputs": [
    {
     "data": {
      "text/plain": [
       "3"
      ]
     },
     "execution_count": 20,
     "metadata": {},
     "output_type": "execute_result"
    }
   ],
   "source": [
    "D = {(1,2,3): 3, (1,2): 2}\n",
    "D[(1,2,3)]"
   ]
  },
  {
   "cell_type": "code",
   "execution_count": 21,
   "id": "11dcc358-88a9-4431-bdc9-0145dc5e52eb",
   "metadata": {},
   "outputs": [],
   "source": [
    "a,b = 1,2"
   ]
  },
  {
   "cell_type": "code",
   "execution_count": 22,
   "id": "2d38b215-9283-43ed-925c-ef2407ce9901",
   "metadata": {},
   "outputs": [
    {
     "data": {
      "text/plain": [
       "1"
      ]
     },
     "execution_count": 22,
     "metadata": {},
     "output_type": "execute_result"
    }
   ],
   "source": [
    "a"
   ]
  },
  {
   "cell_type": "code",
   "execution_count": 23,
   "id": "ad64cfdd-c1e7-4477-9172-ee79c3da76fb",
   "metadata": {},
   "outputs": [
    {
     "data": {
      "text/plain": [
       "2"
      ]
     },
     "execution_count": 23,
     "metadata": {},
     "output_type": "execute_result"
    }
   ],
   "source": [
    "b"
   ]
  },
  {
   "cell_type": "code",
   "execution_count": 24,
   "id": "651b8867-249f-459a-972a-5ab5093486ea",
   "metadata": {},
   "outputs": [
    {
     "data": {
      "text/plain": [
       "{1, 2, 3}"
      ]
     },
     "execution_count": 24,
     "metadata": {},
     "output_type": "execute_result"
    }
   ],
   "source": [
    "set((1,2,3))"
   ]
  },
  {
   "cell_type": "markdown",
   "id": "c785365e-46c5-4c72-b76b-3464513acca5",
   "metadata": {},
   "source": [
    "***\n",
    "## The Problem"
   ]
  },
  {
   "cell_type": "code",
   "execution_count": 25,
   "id": "a91cd6d3-e785-44fe-8db8-93d69654607d",
   "metadata": {},
   "outputs": [],
   "source": [
    "a = 'a'\n",
    "b = 'b'"
   ]
  },
  {
   "cell_type": "code",
   "execution_count": 26,
   "id": "41d8fe9c-2138-4c9f-8d78-4330a085bb6b",
   "metadata": {},
   "outputs": [
    {
     "data": {
      "text/plain": [
       "(('a',), ('a', 'b'), ('b', 'b', 'a'))"
      ]
     },
     "execution_count": 26,
     "metadata": {},
     "output_type": "execute_result"
    }
   ],
   "source": [
    "L1 = ((a,), (a, b), (b, b, a))\n",
    "L1"
   ]
  },
  {
   "cell_type": "code",
   "execution_count": 27,
   "id": "5e22533c-c0eb-4790-a6fe-7af026e1849d",
   "metadata": {},
   "outputs": [
    {
     "data": {
      "text/plain": [
       "(('b', 'a', 'a'), ('a', 'a'), ('b', 'b'))"
      ]
     },
     "execution_count": 27,
     "metadata": {},
     "output_type": "execute_result"
    }
   ],
   "source": [
    "L2 = ((b, a, a), (a, a), (b, b))\n",
    "L2"
   ]
  },
  {
   "cell_type": "code",
   "execution_count": 28,
   "id": "f6fd5655-a050-4a31-9177-dde7a3e76e0b",
   "metadata": {},
   "outputs": [],
   "source": [
    "# a proposed solution\n",
    "S = (2, 1, 2, 0)"
   ]
  },
  {
   "cell_type": "code",
   "execution_count": 29,
   "id": "e9a3fa83-e2d2-4ce0-9fec-5a7c62bc19af",
   "metadata": {},
   "outputs": [],
   "source": [
    "def apply(S,L):\n",
    "    S_on_L = [''.join(L[i]) for i in S]\n",
    "    return ''.join(S_on_L)"
   ]
  },
  {
   "cell_type": "code",
   "execution_count": 30,
   "id": "acb1ca0c-4914-4910-ba7b-ff73844b6b44",
   "metadata": {},
   "outputs": [
    {
     "data": {
      "text/plain": [
       "'bbaabbbaa'"
      ]
     },
     "execution_count": 30,
     "metadata": {},
     "output_type": "execute_result"
    }
   ],
   "source": [
    "apply(S,L1)"
   ]
  },
  {
   "cell_type": "code",
   "execution_count": 31,
   "id": "3e5c6a1b-8dbc-4470-8c27-b22e265fec4f",
   "metadata": {},
   "outputs": [
    {
     "data": {
      "text/plain": [
       "'bbaabbbaa'"
      ]
     },
     "execution_count": 31,
     "metadata": {},
     "output_type": "execute_result"
    }
   ],
   "source": [
    "apply(S,L2)"
   ]
  },
  {
   "cell_type": "code",
   "execution_count": 32,
   "id": "2c3b0a41-ccd3-4910-b971-6247b8370c67",
   "metadata": {},
   "outputs": [
    {
     "data": {
      "text/plain": [
       "True"
      ]
     },
     "execution_count": 32,
     "metadata": {},
     "output_type": "execute_result"
    }
   ],
   "source": [
    "apply(S,L1) == apply(S,L2)"
   ]
  },
  {
   "cell_type": "code",
   "execution_count": 33,
   "id": "7ee3e1c8-158f-4052-a663-a619cfc01a56",
   "metadata": {},
   "outputs": [
    {
     "data": {
      "text/plain": [
       "'bbaabbbaabbaabbbaa'"
      ]
     },
     "execution_count": 33,
     "metadata": {},
     "output_type": "execute_result"
    }
   ],
   "source": [
    "apply((2, 1, 2, 0, 2, 1, 2, 0), L1)\n"
   ]
  },
  {
   "cell_type": "code",
   "execution_count": 34,
   "id": "6eed9680-beaa-46e4-b5d2-8f2f395fa7ce",
   "metadata": {},
   "outputs": [
    {
     "data": {
      "text/plain": [
       "'bbaabbbaabbaabbbaa'"
      ]
     },
     "execution_count": 34,
     "metadata": {},
     "output_type": "execute_result"
    }
   ],
   "source": [
    "apply((2, 1, 2, 0, 2, 1, 2, 0), L2)"
   ]
  },
  {
   "cell_type": "code",
   "execution_count": 35,
   "id": "97d0522e-6be8-4dab-9695-11b9cd39212d",
   "metadata": {},
   "outputs": [
    {
     "data": {
      "text/plain": [
       "True"
      ]
     },
     "execution_count": 35,
     "metadata": {},
     "output_type": "execute_result"
    }
   ],
   "source": [
    "apply((2, 1, 2, 0, 2, 1, 2, 0), L2) == apply((2, 1, 2, 0, 2, 1, 2, 0), L1)"
   ]
  },
  {
   "cell_type": "markdown",
   "id": "adf51b3b-8ce6-48e6-9bed-efd4e4c8a44c",
   "metadata": {},
   "source": [
    "***\n",
    "## No Correspondence"
   ]
  },
  {
   "cell_type": "code",
   "execution_count": 36,
   "id": "1d684746-f55a-432b-97db-a4f34a8a702f",
   "metadata": {},
   "outputs": [],
   "source": [
    "#list 1 for non correspondence\n",
    "L1 = ((a, b), (b, b, a))"
   ]
  },
  {
   "cell_type": "code",
   "execution_count": 37,
   "id": "1e6f23b4-6930-4e89-a464-56e12526d393",
   "metadata": {},
   "outputs": [
    {
     "data": {
      "text/plain": [
       "(('a', 'b'), ('b', 'b', 'a'))"
      ]
     },
     "execution_count": 37,
     "metadata": {},
     "output_type": "execute_result"
    }
   ],
   "source": [
    "L1"
   ]
  },
  {
   "cell_type": "code",
   "execution_count": 38,
   "id": "e5ddf252-6ec9-49c7-9bc5-45befc93921a",
   "metadata": {},
   "outputs": [
    {
     "data": {
      "text/plain": [
       "(('a', 'a'), ('b', 'b'))"
      ]
     },
     "execution_count": 38,
     "metadata": {},
     "output_type": "execute_result"
    }
   ],
   "source": [
    "#list 2 for non correspondence\n",
    "L2 = ((a, a), (b, b))\n",
    "L2"
   ]
  },
  {
   "cell_type": "code",
   "execution_count": 39,
   "id": "68c545e4-4067-47a4-b020-53daf2d9ca81",
   "metadata": {},
   "outputs": [],
   "source": [
    "# S = ?"
   ]
  },
  {
   "cell_type": "code",
   "execution_count": 40,
   "id": "0da59782-6413-4651-92f4-ffc6137d773b",
   "metadata": {},
   "outputs": [],
   "source": [
    "# possibles = ((0,), (1,), (0,0), (0, 1), (1, 0), (1,1), (0,0,0), (0,0,1), (0,1,0), ...)\n"
   ]
  },
  {
   "cell_type": "markdown",
   "id": "86e02324-a172-4557-86d7-1e7d87946883",
   "metadata": {},
   "source": [
    "***\n",
    "### Bounded PCP"
   ]
  },
  {
   "cell_type": "code",
   "execution_count": 41,
   "id": "d4041f6c-1d10-4ff9-8186-2cd04055bba2",
   "metadata": {},
   "outputs": [],
   "source": [
    "# solver for the bounded version\n",
    "def bpcp_solver(L1,L2,K):\n",
    "    if correspond(L1,L2,K):\n",
    "        return true\n",
    "    else:\n",
    "        return false\n",
    "\n",
    "#Correspond needs to state whether a solution S of max length K exists.\n",
    "def correspond(L1,L2,K):\n",
    "    return True if solution else false\n"
   ]
  },
  {
   "cell_type": "markdown",
   "id": "59895754-ac67-4e3a-bd21-f46bf0bc37de",
   "metadata": {},
   "source": [
    "***\n",
    "### Intertools"
   ]
  },
  {
   "cell_type": "code",
   "execution_count": 42,
   "id": "86605923-ff7f-4124-ac34-6a9bdf989e40",
   "metadata": {},
   "outputs": [],
   "source": [
    "import itertools as it"
   ]
  },
  {
   "cell_type": "code",
   "execution_count": 43,
   "id": "2bd8afbb-6358-4a46-839e-4cf9a70f5ce4",
   "metadata": {},
   "outputs": [
    {
     "data": {
      "text/plain": [
       "[('A', 'B', 'C'),\n",
       " ('A', 'C', 'B'),\n",
       " ('B', 'A', 'C'),\n",
       " ('B', 'C', 'A'),\n",
       " ('C', 'A', 'B'),\n",
       " ('C', 'B', 'A')]"
      ]
     },
     "execution_count": 43,
     "metadata": {},
     "output_type": "execute_result"
    }
   ],
   "source": [
    "list(it.permutations('ABC'))"
   ]
  },
  {
   "cell_type": "code",
   "execution_count": 44,
   "id": "8a826948-7aaf-47bd-a47e-52c807347fda",
   "metadata": {},
   "outputs": [
    {
     "data": {
      "text/plain": [
       "[('A', 'B'), ('A', 'C'), ('B', 'C')]"
      ]
     },
     "execution_count": 44,
     "metadata": {},
     "output_type": "execute_result"
    }
   ],
   "source": [
    "list(it.combinations('ABC',2))"
   ]
  },
  {
   "cell_type": "code",
   "execution_count": 45,
   "id": "d6576581-2904-4a88-ba6b-85ce958c380b",
   "metadata": {},
   "outputs": [
    {
     "data": {
      "text/plain": [
       "[('A', 'A'),\n",
       " ('A', 'B'),\n",
       " ('A', 'C'),\n",
       " ('A', 'D'),\n",
       " ('B', 'A'),\n",
       " ('B', 'B'),\n",
       " ('B', 'C'),\n",
       " ('B', 'D'),\n",
       " ('C', 'A'),\n",
       " ('C', 'B'),\n",
       " ('C', 'C'),\n",
       " ('C', 'D'),\n",
       " ('D', 'A'),\n",
       " ('D', 'B'),\n",
       " ('D', 'C'),\n",
       " ('D', 'D')]"
      ]
     },
     "execution_count": 45,
     "metadata": {},
     "output_type": "execute_result"
    }
   ],
   "source": [
    "list(it.product('ABCD','ABCD'))"
   ]
  },
  {
   "cell_type": "code",
   "execution_count": 46,
   "id": "e7bf6765-0729-4e72-b37e-7c7384705214",
   "metadata": {},
   "outputs": [
    {
     "data": {
      "text/plain": [
       "[(0, 0, 0),\n",
       " (0, 0, 1),\n",
       " (0, 1, 0),\n",
       " (0, 1, 1),\n",
       " (1, 0, 0),\n",
       " (1, 0, 1),\n",
       " (1, 1, 0),\n",
       " (1, 1, 1)]"
      ]
     },
     "execution_count": 46,
     "metadata": {},
     "output_type": "execute_result"
    }
   ],
   "source": [
    "list(it.product(range(len(L1)), range(len(L1)), range(len(L1))))"
   ]
  },
  {
   "cell_type": "code",
   "execution_count": 47,
   "id": "abd74a25-a963-457f-84c7-9fa6a4ff87ee",
   "metadata": {},
   "outputs": [
    {
     "name": "stdout",
     "output_type": "stream",
     "text": [
      "(0,)\n",
      "(1,)\n",
      "(0, 0)\n",
      "(0, 1)\n",
      "(1, 0)\n",
      "(1, 1)\n",
      "(0, 0, 0)\n",
      "(0, 0, 1)\n",
      "(0, 1, 0)\n",
      "(0, 1, 1)\n",
      "(1, 0, 0)\n",
      "(1, 0, 1)\n",
      "(1, 1, 0)\n",
      "(1, 1, 1)\n",
      "(0, 0, 0, 0)\n",
      "(0, 0, 0, 1)\n",
      "(0, 0, 1, 0)\n",
      "(0, 0, 1, 1)\n",
      "(0, 1, 0, 0)\n",
      "(0, 1, 0, 1)\n",
      "(0, 1, 1, 0)\n",
      "(0, 1, 1, 1)\n",
      "(1, 0, 0, 0)\n",
      "(1, 0, 0, 1)\n",
      "(1, 0, 1, 0)\n",
      "(1, 0, 1, 1)\n",
      "(1, 1, 0, 0)\n",
      "(1, 1, 0, 1)\n",
      "(1, 1, 1, 0)\n",
      "(1, 1, 1, 1)\n"
     ]
    }
   ],
   "source": [
    "# The bound for the bounded problem.\n",
    "K = 4\n",
    "\n",
    "# The generators.\n",
    "gens = []\n",
    "\n",
    "# Loop through all possible solutions.\n",
    "for i in range(1, K + 1):\n",
    "    # Create a generator for solutions of length i, append it to gens.\n",
    "    gens.append(it.product(*([range(len(L1))] * i)))\n",
    "\n",
    "# it.chain just chains generators together.\n",
    "for solution in it.chain(*gens):\n",
    "  print(solution)"
   ]
  },
  {
   "cell_type": "code",
   "execution_count": 48,
   "id": "f574571b-a253-49e5-b9da-58305f9cd182",
   "metadata": {},
   "outputs": [
    {
     "name": "stdout",
     "output_type": "stream",
     "text": [
      "[1, 2, 3]\n"
     ]
    }
   ],
   "source": [
    "print([1,2,3])"
   ]
  },
  {
   "cell_type": "code",
   "execution_count": 50,
   "id": "65754ffa-7ed9-46ba-ac09-0342de3e7251",
   "metadata": {},
   "outputs": [
    {
     "name": "stdout",
     "output_type": "stream",
     "text": [
      "1 2 3\n"
     ]
    }
   ],
   "source": [
    "print(*[1,2,3])# * takes the [] brackets and the commas to make it look alot more clean "
   ]
  },
  {
   "cell_type": "code",
   "execution_count": null,
   "id": "27b11abb-3dde-4899-aa7c-35aacb937a79",
   "metadata": {},
   "outputs": [],
   "source": []
  }
 ],
 "metadata": {
  "kernelspec": {
   "display_name": "Python 3 (ipykernel)",
   "language": "python",
   "name": "python3"
  },
  "language_info": {
   "codemirror_mode": {
    "name": "ipython",
    "version": 3
   },
   "file_extension": ".py",
   "mimetype": "text/x-python",
   "name": "python",
   "nbconvert_exporter": "python",
   "pygments_lexer": "ipython3",
   "version": "3.9.7"
  }
 },
 "nbformat": 4,
 "nbformat_minor": 5
}
