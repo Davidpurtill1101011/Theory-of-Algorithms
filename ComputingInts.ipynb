{
 "cells": [
  {
   "cell_type": "markdown",
   "id": "4d7225fe-8f62-49d1-9735-919d344b893d",
   "metadata": {},
   "source": [
    "## Computing with Integers\n",
    "***"
   ]
  },
  {
   "cell_type": "code",
   "execution_count": 1,
   "id": "8093e574-84e1-4e7f-b1f0-857e4b1a5bb9",
   "metadata": {},
   "outputs": [],
   "source": [
    "def double(i):\n",
    "    return 2 * i"
   ]
  },
  {
   "cell_type": "code",
   "execution_count": 2,
   "id": "e5d462c8-22a9-45ca-8624-07b1c3fa8767",
   "metadata": {},
   "outputs": [],
   "source": [
    "list_of_inputs = [-9, -8, -7, -6, -5, -4, -3, -2, -1, 0, 1, 2, 3, 4, 5, 6, 7, 8, 9]"
   ]
  },
  {
   "cell_type": "code",
   "execution_count": 3,
   "id": "edc48124-25cc-4183-84cb-1e56994e2956",
   "metadata": {},
   "outputs": [
    {
     "data": {
      "text/plain": [
       "[-18, -16, -14, -12, -10, -8, -6, -4, -2, 0, 2, 4, 6, 8, 10, 12, 14, 16, 18]"
      ]
     },
     "execution_count": 3,
     "metadata": {},
     "output_type": "execute_result"
    }
   ],
   "source": [
    "list_of_outputs = list(map(double, list_of_inputs))\n",
    "list_of_outputs"
   ]
  },
  {
   "cell_type": "code",
   "execution_count": 4,
   "id": "ca506d50-4185-4976-9eb1-58be6748e06a",
   "metadata": {},
   "outputs": [
    {
     "name": "stdout",
     "output_type": "stream",
     "text": [
      " -9 -> -18\n",
      " -8 -> -16\n",
      " -7 -> -14\n",
      " -6 -> -12\n",
      " -5 -> -10\n",
      " -4 ->  -8\n",
      " -3 ->  -6\n",
      " -2 ->  -4\n",
      " -1 ->  -2\n",
      "  0 ->   0\n",
      "  1 ->   2\n",
      "  2 ->   4\n",
      "  3 ->   6\n",
      "  4 ->   8\n",
      "  5 ->  10\n",
      "  6 ->  12\n",
      "  7 ->  14\n",
      "  8 ->  16\n",
      "  9 ->  18\n"
     ]
    }
   ],
   "source": [
    "for i in range(-9,10):\n",
    "    print(f'{i:3} -> {double(i):3}')"
   ]
  },
  {
   "cell_type": "markdown",
   "id": "a143fc9d-63d5-4acb-a033-0fc33d4b6c7c",
   "metadata": {},
   "source": [
    "***\n",
    "## The Ints and the Reals"
   ]
  },
  {
   "cell_type": "code",
   "execution_count": 5,
   "id": "f41a2b3a-77bb-40e8-9398-2958fa6cf4ab",
   "metadata": {},
   "outputs": [
    {
     "name": "stdout",
     "output_type": "stream",
     "text": [
      " 0 -> 0.19503231163697609674...\n",
      " 1 -> 0.28592138867801120128...\n",
      " 2 -> 0.77087122664859153431...\n",
      " 3 -> 0.05525810892985261180...\n",
      " 4 -> 0.30765929430299587821...\n",
      " 5 -> 0.45464245144746318061...\n",
      " 6 -> 0.98000225000794649599...\n",
      " 7 -> 0.71818054317093615868...\n",
      " 8 -> 0.93623692688139159568...\n",
      " 9 -> 0.59259465971563451969...\n",
      "etc....\n"
     ]
    }
   ],
   "source": [
    "import random\n",
    "for n in range(10):\n",
    "    print(f'{n:2} -> {random.random():0.20f}...')\n",
    "print(\"etc....\")"
   ]
  },
  {
   "cell_type": "code",
   "execution_count": null,
   "id": "7a751822-cad8-4abd-a2ee-22ffeb926d7b",
   "metadata": {},
   "outputs": [],
   "source": []
  }
 ],
 "metadata": {
  "kernelspec": {
   "display_name": "Python 3 (ipykernel)",
   "language": "python",
   "name": "python3"
  },
  "language_info": {
   "codemirror_mode": {
    "name": "ipython",
    "version": 3
   },
   "file_extension": ".py",
   "mimetype": "text/x-python",
   "name": "python",
   "nbconvert_exporter": "python",
   "pygments_lexer": "ipython3",
   "version": "3.9.7"
  }
 },
 "nbformat": 4,
 "nbformat_minor": 5
}
