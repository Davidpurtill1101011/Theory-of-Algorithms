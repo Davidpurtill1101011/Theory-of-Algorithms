{
 "cells": [
  {
   "cell_type": "markdown",
   "metadata": {},
   "source": [
    "## Post Correspondence Problem\n",
    "- This heading will cover the definition and an explanation of the Post Correspondence Problem\n",
    "***\n",
    "The Post Correspondence Problem is a very popular way of working out a [undecidable problem](https://en.wikipedia.org/wiki/Post_correspondence_problem) that was introduced by [Emil Leon Post](https://en.wikipedia.org/wiki/Emil_Leon_Post) in 1946.\n",
    "### Definition of Problem\n",
    "The input of the problem has two finite lists which is showen below.\n",
    "\n",
    "\n",
    "\n",
    "A solution to this is a sequence of indices.\n",
    "![Equation for Post Correspondence Problem](https://latex.codecogs.com/gif.latex?%28i_k%29_%7B1%5Cle%20k%20%5Cle%20K%7D%20with%20K%20%5Cge%201%20and%201%20%5Cle%20i_k%20%5Cle%20N%20ofr%20all%20k)  so that  ![equation continued](https://latex.codecogs.com/gif.latex?%5Calpha_%7Bi_1%7D%20%5C%7Cdots%20%5Calpha_%7Bi_K%7D%20%3D%20%5Cbeta_%7Bi_1%7D%20%5C%7Cdots%20%5Cbeta_%7Bi_K%7D). Then it is left up to the descision problem to be able to decide if the problem exists or not.\n",
    "***\n",
    "#### Possible solution for problem \n",
    "|PCP|A1|B1|\n",
    "|---|---|---|\n",
    "|1|a|baa|\n",
    "|2|ab|aa|\n",
    "|3|bba|bb|\n",
    "\n",
    "One solution for this is problem would be to have the sequence of (2,1,2,0) because this works out to be a3,a2,a3,a1 = bba + ab + bba + a = bbaabbbaa = bb + aa + bb + baa = b3,b2,b3,b1."
   ]
  },
  {
   "cell_type": "code",
   "execution_count": 32,
   "metadata": {},
   "outputs": [
    {
     "name": "stdout",
     "output_type": "stream",
     "text": [
      "(('a',), ('a', 'b'), ('b', 'b', 'a'))\n",
      "(('b', 'a', 'a'), ('a', 'a'), ('b', 'b'))\n"
     ]
    }
   ],
   "source": [
    "a='a'\n",
    "b='b'\n",
    "# Lists that will be compared to see if they are the same and will hold them same contents as in the table showen above\n",
    "L1 = ((a,),(a,b), (b,b,a))\n",
    "L2 = ((b,a,a),(a,a),(b,b))\n",
    "#N1 and N2 are not the same and when they are added into the apply method they will return false,\n",
    "#as to where L1 and L2 are compared they will return true\n",
    "N1 = ((a, b), (b, b, a))\n",
    "N2 = ((a, a), (b, b))\n",
    "print(L1)\n",
    "print(L2)"
   ]
  },
  {
   "cell_type": "code",
   "execution_count": 33,
   "metadata": {},
   "outputs": [
    {
     "data": {
      "text/plain": [
       "(2, 1, 2, 0)"
      ]
     },
     "execution_count": 33,
     "metadata": {},
     "output_type": "execute_result"
    }
   ],
   "source": [
    "# a possible solution\n",
    "S = (2,1,2,0)\n",
    "S"
   ]
  },
  {
   "cell_type": "code",
   "execution_count": 34,
   "metadata": {},
   "outputs": [],
   "source": [
    "def apply(S,L):\n",
    "    S_on_L = [''.join(L[i]) for i in S]\n",
    "    return ''.join(S_on_L)"
   ]
  },
  {
   "cell_type": "code",
   "execution_count": 35,
   "metadata": {},
   "outputs": [
    {
     "data": {
      "text/plain": [
       "'bbaabbbaa'"
      ]
     },
     "execution_count": 35,
     "metadata": {},
     "output_type": "execute_result"
    }
   ],
   "source": [
    "apply(S,L1)"
   ]
  },
  {
   "cell_type": "code",
   "execution_count": 36,
   "metadata": {},
   "outputs": [
    {
     "data": {
      "text/plain": [
       "'bbaabbbaa'"
      ]
     },
     "execution_count": 36,
     "metadata": {},
     "output_type": "execute_result"
    }
   ],
   "source": [
    "apply(S,L2)"
   ]
  },
  {
   "cell_type": "code",
   "execution_count": 38,
   "metadata": {},
   "outputs": [
    {
     "data": {
      "text/plain": [
       "True"
      ]
     },
     "execution_count": 38,
     "metadata": {},
     "output_type": "execute_result"
    }
   ],
   "source": [
    "#comparing the two lists to see it the do actually corrospond with each other\n",
    "apply(S,L1) == apply(S,L2)"
   ]
  },
  {
   "cell_type": "code",
   "execution_count": null,
   "metadata": {},
   "outputs": [],
   "source": []
  }
 ],
 "metadata": {
  "kernelspec": {
   "display_name": "Python 3",
   "language": "python",
   "name": "python3"
  },
  "language_info": {
   "codemirror_mode": {
    "name": "ipython",
    "version": 3
   },
   "file_extension": ".py",
   "mimetype": "text/x-python",
   "name": "python",
   "nbconvert_exporter": "python",
   "pygments_lexer": "ipython3",
   "version": "3.8.5"
  }
 },
 "nbformat": 4,
 "nbformat_minor": 4
}
