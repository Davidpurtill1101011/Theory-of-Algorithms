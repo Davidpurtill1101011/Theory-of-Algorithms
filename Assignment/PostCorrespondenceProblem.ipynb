{
 "cells": [
  {
   "cell_type": "markdown",
   "metadata": {},
   "source": [
    "## **Post Correspondence Problem**\n",
    "- This heading will cover the definition and an explanation of the Post Correspondence Problem\n",
    "***\n",
    "The Post Correspondence Problem is a very popular way of working out a [undecidable problem](https://en.wikipedia.org/wiki/Post_correspondence_problem) that was introduced by [Emil Leon Post](https://en.wikipedia.org/wiki/Emil_Leon_Post) in 1946.\n",
    "### **Definition of Problem**\n",
    "The input of the problem has two finite lists of strings which is showen below in the table. Each string looks similar to what is in each cell of the table. The idea of Post Correspondence is to check and see if both sets of strings are the same, they dont need to be layed out the same as each other but need to contain the same amount of letters as each pther and can make up the same concatinated strings if need be. With the code that is written below both list 1 and list 2 fairly similar strings that can end up being the same as shown when passed into the method, And both return true which is tested below.\n",
    "\n",
    "***\n",
    "#### **Possible solution for problem**\n",
    "![Equation for Post Correspondence Problem](https://latex.codecogs.com/gif.latex?%28i_k%29_%7B1%5Cle%20k%20%5Cle%20K%7D%20with%20K%20%5Cge%201%20and%201%20%5Cle%20i_k%20%5Cle%20N%20ofr%20all%20k)  \n",
    "\n",
    "so that \n",
    "\n",
    "![equation continued](https://latex.codecogs.com/gif.latex?%5Calpha_%7Bi_1%7D%20%5C%7Cdots%20%5Calpha_%7Bi_K%7D%20%3D%20%5Cbeta_%7Bi_1%7D%20%5C%7Cdots%20%5Cbeta_%7Bi_K%7D). \n",
    "\n",
    "Then it is left up to the descision problem to be able to decide if the problem exists or not. \n",
    "\n",
    "|PCP|A1|B1|\n",
    "|---|---|---|\n",
    "|1|a|baa|\n",
    "|2|ab|aa|\n",
    "|3|bba|bb|\n",
    "\n",
    "One solution for this is problem would be to have the sequence of (2,1,2,0) because this works out to be a3,a2,a3,a1 = bba + ab + bba + a = bbaabbbaa = bb + aa + bb + baa = b3,b2,b3,b1."
   ]
  },
  {
   "cell_type": "code",
   "execution_count": 155,
   "metadata": {},
   "outputs": [
    {
     "name": "stdout",
     "output_type": "stream",
     "text": [
      "(('a',), ('a', 'b'), ('b', 'b', 'a'))\n",
      "(('b', 'a', 'a'), ('a', 'a'), ('b', 'b'))\n"
     ]
    }
   ],
   "source": [
    "a='a'\n",
    "b='b'\n",
    "# Lists that will be compared to see if they are the same and will hold them same contents as in the table showen above\n",
    "L1 = ((a,),(a,b), (b,b,a))\n",
    "L2 = ((b,a,a),(a,a),(b,b))\n",
    "#N1 and N2 are not the same and when they are added into the apply method they will return false,\n",
    "#as to where L1 and L2 are compared they will return true\n",
    "N1 = ((a, b), (b, b, a))\n",
    "N2 = ((a, a), (b, b))\n",
    "Y1 = ()\n",
    "Y2 = ()\n",
    "print(L1)\n",
    "print(L2)"
   ]
  },
  {
   "cell_type": "code",
   "execution_count": 156,
   "metadata": {},
   "outputs": [
    {
     "name": "stdout",
     "output_type": "stream",
     "text": [
      "()\n"
     ]
    }
   ],
   "source": [
    "# a possible solution\n",
    "S = (2,1,2,0)\n",
    "D=()\n",
    "S\n",
    "print(D)"
   ]
  },
  {
   "cell_type": "code",
   "execution_count": 157,
   "metadata": {},
   "outputs": [],
   "source": [
    "def apply(S,L):\n",
    "    S_on_L = [''.join(L[i]) for i in S]\n",
    "    print(S_on_L)\n",
    "    return ''.join(S_on_L)"
   ]
  },
  {
   "cell_type": "code",
   "execution_count": 158,
   "metadata": {},
   "outputs": [
    {
     "name": "stdout",
     "output_type": "stream",
     "text": [
      "['bba', 'ab', 'bba', 'a']\n"
     ]
    },
    {
     "data": {
      "text/plain": [
       "'bbaabbbaa'"
      ]
     },
     "execution_count": 158,
     "metadata": {},
     "output_type": "execute_result"
    }
   ],
   "source": [
    "apply(S,L1)"
   ]
  },
  {
   "cell_type": "code",
   "execution_count": 159,
   "metadata": {},
   "outputs": [
    {
     "name": "stdout",
     "output_type": "stream",
     "text": [
      "['bb', 'aa', 'bb', 'baa']\n"
     ]
    },
    {
     "data": {
      "text/plain": [
       "'bbaabbbaa'"
      ]
     },
     "execution_count": 159,
     "metadata": {},
     "output_type": "execute_result"
    }
   ],
   "source": [
    "apply(S,L2)"
   ]
  },
  {
   "cell_type": "code",
   "execution_count": 160,
   "metadata": {},
   "outputs": [
    {
     "name": "stdout",
     "output_type": "stream",
     "text": [
      "['bba', 'ab', 'bba', 'a']\n",
      "['bb', 'aa', 'bb', 'baa']\n"
     ]
    },
    {
     "data": {
      "text/plain": [
       "True"
      ]
     },
     "execution_count": 160,
     "metadata": {},
     "output_type": "execute_result"
    }
   ],
   "source": [
    "#comparing the two lists to see it the do actually corrospond with each other\n",
    "apply(S,L1) == apply(S,L2)\n",
    "#apply(D,Y2) == apply(D,Y1)"
   ]
  },
  {
   "cell_type": "markdown",
   "metadata": {},
   "source": [
    "***\n",
    "### **Explination of Post Correspondence Problem**\n",
    "If you take a set that contains all the possible outcomes of sets and if they correspond they must return true and then if they dont it must return false, When each set of strings is set out they should be able to combine L1 and have it look a way and then do the same with L2 and have that to look the exact same way as L1 as shown above. Each row in the combined set should be able to be used as many times as you want. And the best to find the answer is using a [finite state](https://en.wikipedia.org/wiki/Finite-state_machine). A good way to try and start is having the first symbol on the top match the first symbol on the bottom. IE=> you would in theory go PCP3(bba,bb) and then PCP2(ab,aa) then back to PCP3(bba,bb) and then finally PCP1(a,baa), Here you can see that PCP3 was used twice to make it so that both L1 and L2 would be the same and return true. **Look at table above to follow the run of PCP1,2 & 3** [Link to working out pcp](https://youtu.be/VZNN1OGoqr8?t=149)\n",
    "\n",
    "With the [undecidable problem](https://en.wikipedia.org/wiki/Post_correspondence_problem) there isnt an algorithm that you can use to actually decide the outcome of the set. And it is alot easier than using the [halting problem](https://en.wikipedia.org/wiki/Halting_problem). If you were to use the halting problem over the PCP and you dont have a set that is full it will just go into an infinite loop and will never give you a true or false state.\n"
   ]
  },
  {
   "cell_type": "markdown",
   "metadata": {},
   "source": [
    "***\n",
    "## **Bounded Post Correspondence Problem**\n",
    "One of the most known varients of PCP is Bounded PCP, where it asks if you can find a match within **x** amount of tiles or interations through the set, And this also includes tiles that get used again. A search that uses brute force can be used to solve the problem in [O(2^k)](https://en.wikipedia.org/wiki/Time_complexity)\n",
    "\n",
    "$$ |S| \\leq K \\qquad K \\in \\mathbb{N} $$"
   ]
  },
  {
   "cell_type": "code",
   "execution_count": 161,
   "metadata": {},
   "outputs": [],
   "source": [
    "from itertools import permutations,product"
   ]
  },
  {
   "cell_type": "code",
   "execution_count": 162,
   "metadata": {},
   "outputs": [],
   "source": [
    "L1 = ['a','ab','bba']"
   ]
  },
  {
   "cell_type": "code",
   "execution_count": 163,
   "metadata": {},
   "outputs": [],
   "source": [
    "L2 = ['baa','aa','bb']"
   ]
  },
  {
   "cell_type": "code",
   "execution_count": 164,
   "metadata": {},
   "outputs": [],
   "source": [
    "L3 = ['bcd', 'cd', 'ddc'] "
   ]
  },
  {
   "cell_type": "code",
   "execution_count": 165,
   "metadata": {},
   "outputs": [],
   "source": [
    "def isSame(L1,L2):\n",
    "    if L1 == L2:\n",
    "        return True\n",
    "    else:\n",
    "        return False   "
   ]
  },
  {
   "cell_type": "code",
   "execution_count": 166,
   "metadata": {},
   "outputs": [],
   "source": [
    "def solution(L,K):\n",
    "    L1 = []\n",
    "    for i in range(1, K+1):\n",
    "        for j in product(L, repeat = i):\n",
    "            joinWords = ''.join(j)\n",
    "            L1.append(hash(joinWords))\n",
    "    return L1"
   ]
  },
  {
   "cell_type": "code",
   "execution_count": 167,
   "metadata": {},
   "outputs": [],
   "source": [
    "def bpcp_solver(L1, L2, K):\n",
    "    for x in solution(L1,K):\n",
    "        for y in solution(L2,K):\n",
    "            if isSame(x,y):\n",
    "                return True\n",
    "    return False"
   ]
  },
  {
   "cell_type": "code",
   "execution_count": 168,
   "metadata": {},
   "outputs": [
    {
     "data": {
      "text/plain": [
       "True"
      ]
     },
     "execution_count": 168,
     "metadata": {},
     "output_type": "execute_result"
    }
   ],
   "source": [
    "#This bpcp_solver below is the ideal one you want as it has the right\n",
    "#amount to use K but you can set to a higher number but it takes it a \n",
    "#little longer to do it the higher the number\n",
    "bpcp_solver(L1,L2,3)"
   ]
  },
  {
   "cell_type": "code",
   "execution_count": 169,
   "metadata": {},
   "outputs": [
    {
     "data": {
      "text/plain": [
       "False"
      ]
     },
     "execution_count": 169,
     "metadata": {},
     "output_type": "execute_result"
    }
   ],
   "source": [
    "#The call of the bpcp_solver below is comapring 2 arrays against \n",
    "#each other that are not the same and is returning false but is using K 3 times\n",
    "bpcp_solver(L1,L3,3)"
   ]
  },
  {
   "cell_type": "code",
   "execution_count": null,
   "metadata": {},
   "outputs": [],
   "source": [
    "# Here on this version of the Solver if K = 1 it will either come back \n",
    "#as false or never give you an answer even if the lists do correspond\n",
    "bpcp_solver(L1,L2,1)"
   ]
  },
  {
   "cell_type": "markdown",
   "metadata": {
    "tags": []
   },
   "source": [
    "### Bounded Post Correspondence Problem Explination\n",
    "- if the list contatins what is L1 and L2 in the PCP problem. With the bounded PCP it is similar enough to the way PCP is worked out but it takes **K** which the number amount of tiles that can be used to solve the problem for you and from time to time it can take some jiggery pokery to give it the right number to solve it in. \n",
    "- The main idea is to have PCP build supersequences of L1 and L2 working from left to right, and encoding in the tiles overlaps in the position we are in L1 and L2 individually. So if the lists are broken up into tiles of 3 or 4 they are used 1 tile per symbol in c, so k corresponds to BPCP's that are bound. And if we can solve the PCP with less or equal k tiles then you can read off other supersequence of the same length.\n",
    "\n",
    "- For more indepth information look at these links where it is explained a little better and in different terms [Link1](https://cs.stackexchange.com/questions/2783/a-polynomial-reduction-from-any-np-complete-problem-to-bounded-pcp) this explains what I have above but in a more better way, [Link2](https://cs.stackexchange.com/questions/701/decidable-restrictions-of-the-post-correspondence-problem/4638#4638). And here is a paper called [Of The Computational Complexity of Scheme Equivalence ](https://ecommons.cornell.edu/bitstream/handle/1813/6041/74-201.pdf;jsessionid=7D61764D9599B062AD2614CC13E5B559?sequence=1) by Robert L. Constable from Cornell University ,Harry B. Hunt III from Princeton University and Sartaj Sahni from University of Minnesota"
   ]
  },
  {
   "cell_type": "code",
   "execution_count": null,
   "metadata": {},
   "outputs": [],
   "source": []
  }
 ],
 "metadata": {
  "kernelspec": {
   "display_name": "Python 3 (ipykernel)",
   "language": "python",
   "name": "python3"
  },
  "language_info": {
   "codemirror_mode": {
    "name": "ipython",
    "version": 3
   },
   "file_extension": ".py",
   "mimetype": "text/x-python",
   "name": "python",
   "nbconvert_exporter": "python",
   "pygments_lexer": "ipython3",
   "version": "3.9.7"
  }
 },
 "nbformat": 4,
 "nbformat_minor": 4
}
