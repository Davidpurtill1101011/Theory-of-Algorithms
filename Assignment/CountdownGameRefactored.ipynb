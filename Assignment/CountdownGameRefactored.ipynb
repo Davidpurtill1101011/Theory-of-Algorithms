{
 "cells": [
  {
   "cell_type": "markdown",
   "metadata": {},
   "source": [
    "### Countdown \n",
    "- Countdown is a game that is a TV show which aired in 1982 on Channel 4. The game consists of where you have 2 players who face off against each other with both maths and letters round. The letters round you need to spell a word out of random words that are selected by one player for each round it is played IE: player1 will select the letters from vowels and consonants and then they both need to try and get word out of them 9 being the most score you can get and 3 or 4 being the lowest score you can get. The **numbers** round then has big and litte numbers. The big numbers consist of 25,50,75 and 100 then the little numbers are made up of 20 numbers from 1 to 10 but there is 2 of each IE: 1,1,2,2,3,3,4,4...10,10. \n",
    "- The game is also a good way to get good at spelling and learning maths with just trying to get them done quick and seeing different ways of getting to the goal number which can very intresting to how its done.\n",
    "\n",
    "#### Rules\n",
    "- Just some of the rules for the numbers game is that you can add, multiple, subtract only if the number is a positive number cannot be a negative number and you can also divide but only if you have no remainder. Fractions are also not aloud IE: 2/3 or 3/4\n",
    "- The scoring for the numbers round = 10 for correct, 7 for 1–5 away, 5 for 6–10 away and then no score for 11 or more away from the answer.\n",
    "\n",
    "### Other forms of Countdown\n",
    "- There is a another version that is also on Channel 4 called 8 out of 10 Cats do Countdown. This version of the series has comedians playing the game of countdown and is more realaxed and in my own opinion it makes the game a little more enjoyable to watch.\n",
    "***"
   ]
  },
  {
   "cell_type": "code",
   "execution_count": 1,
   "metadata": {},
   "outputs": [],
   "source": [
    "# Permutations and combinations\n",
    "import itertools as it\n",
    "# random nums\n",
    "import random\n",
    "#Operator and functions \n",
    "import operator "
   ]
  },
  {
   "cell_type": "code",
   "execution_count": 2,
   "metadata": {},
   "outputs": [
    {
     "data": {
      "text/plain": [
       "[25, 50, 75, 100]"
      ]
     },
     "execution_count": 2,
     "metadata": {},
     "output_type": "execute_result"
    }
   ],
   "source": [
    "# setting the large/top numbers\n",
    "large = [25,50,75,100]\n",
    "large"
   ]
  },
  {
   "cell_type": "code",
   "execution_count": 3,
   "metadata": {},
   "outputs": [
    {
     "data": {
      "text/plain": [
       "[1, 1, 2, 2, 3, 3, 4, 4, 5, 5, 6, 6, 7, 7, 8, 8, 9, 9, 10, 10]"
      ]
     },
     "execution_count": 3,
     "metadata": {},
     "output_type": "execute_result"
    }
   ],
   "source": [
    "#setting the amount of small/bottom numbers\n",
    "small = sorted(list(range(1,11)) * 2)\n",
    "small "
   ]
  },
  {
   "cell_type": "code",
   "execution_count": 4,
   "metadata": {},
   "outputs": [
    {
     "data": {
      "text/plain": [
       "4"
      ]
     },
     "execution_count": 4,
     "metadata": {},
     "output_type": "execute_result"
    }
   ],
   "source": [
    "no_Large = random.randrange(0,5)\n",
    "no_Large"
   ]
  },
  {
   "cell_type": "code",
   "execution_count": 7,
   "metadata": {},
   "outputs": [
    {
     "data": {
      "text/plain": [
       "[100, 25, 50, 75]"
      ]
     },
     "execution_count": 7,
     "metadata": {},
     "output_type": "execute_result"
    }
   ],
   "source": [
    "large_Rand = random.sample(large, no_Large)\n",
    "large_Rand"
   ]
  },
  {
   "cell_type": "code",
   "execution_count": 8,
   "metadata": {},
   "outputs": [
    {
     "data": {
      "text/plain": [
       "[3, 1]"
      ]
     },
     "execution_count": 8,
     "metadata": {},
     "output_type": "execute_result"
    }
   ],
   "source": [
    "small_rand = random.sample(small, 6 - no_Large)\n",
    "small_rand"
   ]
  },
  {
   "cell_type": "code",
   "execution_count": 9,
   "metadata": {},
   "outputs": [
    {
     "data": {
      "text/plain": [
       "[100, 25, 50, 75, 3, 1]"
      ]
     },
     "execution_count": 9,
     "metadata": {},
     "output_type": "execute_result"
    }
   ],
   "source": [
    "play_nums = large_Rand + small_rand\n",
    "play_nums"
   ]
  },
  {
   "cell_type": "code",
   "execution_count": 10,
   "metadata": {},
   "outputs": [
    {
     "data": {
      "text/plain": [
       "193"
      ]
     },
     "execution_count": 10,
     "metadata": {},
     "output_type": "execute_result"
    }
   ],
   "source": [
    "target = random.randrange(101,1000)\n",
    "target"
   ]
  },
  {
   "cell_type": "code",
   "execution_count": 11,
   "metadata": {},
   "outputs": [],
   "source": [
    "def samples(n, ops):\n",
    "    #check to see if there is any other samples\n",
    "    if len(n) == 1:\n",
    "        yield n\n",
    "    # loop to see if L can be put into sub-lists\n",
    "    for i in range(1,len(n)):\n",
    "        for x, y in it.product(samples(n[:i], ops[1:i]), samples(n[i:], ops[i:])):\n",
    "            yield[*x,*y,ops[0]]"
   ]
  },
  {
   "cell_type": "code",
   "execution_count": 12,
   "metadata": {},
   "outputs": [
    {
     "name": "stdout",
     "output_type": "stream",
     "text": [
      "[100, 50, 5, 4, 3, 7, '/', '+', '-', '*', '+']\n",
      "[100, 50, 5, 4, 3, '/', 7, '+', '-', '*', '+']\n",
      "[100, 50, 5, 4, '+', 3, 7, '/', '-', '*', '+']\n",
      "[100, 50, 5, 4, 3, '/', '+', 7, '-', '*', '+']\n",
      "[100, 50, 5, 4, '/', 3, '+', 7, '-', '*', '+']\n",
      "[100, 50, 5, '-', 4, 3, 7, '/', '+', '*', '+']\n",
      "[100, 50, 5, '-', 4, 3, '/', 7, '+', '*', '+']\n",
      "[100, 50, 5, 4, '+', '-', 3, 7, '/', '*', '+']\n",
      "[100, 50, 5, '+', 4, '-', 3, 7, '/', '*', '+']\n",
      "[100, 50, 5, 4, 3, '/', '+', '-', 7, '*', '+']\n",
      "[100, 50, 5, 4, '/', 3, '+', '-', 7, '*', '+']\n",
      "[100, 50, 5, '+', 4, 3, '/', '-', 7, '*', '+']\n",
      "[100, 50, 5, 4, '/', '+', 3, '-', 7, '*', '+']\n",
      "[100, 50, 5, '/', 4, '+', 3, '-', 7, '*', '+']\n",
      "[100, 50, '*', 5, 4, 3, 7, '/', '+', '-', '+']\n",
      "[100, 50, '*', 5, 4, 3, '/', 7, '+', '-', '+']\n",
      "[100, 50, '*', 5, 4, '+', 3, 7, '/', '-', '+']\n",
      "[100, 50, '*', 5, 4, 3, '/', '+', 7, '-', '+']\n",
      "[100, 50, '*', 5, 4, '/', 3, '+', 7, '-', '+']\n",
      "[100, 50, 5, '-', '*', 4, 3, 7, '/', '+', '+']\n",
      "[100, 50, 5, '-', '*', 4, 3, '/', 7, '+', '+']\n",
      "[100, 50, '-', 5, '*', 4, 3, 7, '/', '+', '+']\n",
      "[100, 50, '-', 5, '*', 4, 3, '/', 7, '+', '+']\n",
      "[100, 50, 5, 4, '+', '-', '*', 3, 7, '/', '+']\n",
      "[100, 50, 5, '+', 4, '-', '*', 3, 7, '/', '+']\n",
      "[100, 50, '-', 5, 4, '+', '*', 3, 7, '/', '+']\n",
      "[100, 50, 5, '+', '-', 4, '*', 3, 7, '/', '+']\n",
      "[100, 50, '+', 5, '-', 4, '*', 3, 7, '/', '+']\n",
      "[100, 50, 5, 4, 3, '/', '+', '-', '*', 7, '+']\n",
      "[100, 50, 5, 4, '/', 3, '+', '-', '*', 7, '+']\n",
      "[100, 50, 5, '+', 4, 3, '/', '-', '*', 7, '+']\n",
      "[100, 50, 5, 4, '/', '+', 3, '-', '*', 7, '+']\n",
      "[100, 50, 5, '/', 4, '+', 3, '-', '*', 7, '+']\n",
      "[100, 50, '-', 5, 4, 3, '/', '+', '*', 7, '+']\n",
      "[100, 50, '-', 5, 4, '/', 3, '+', '*', 7, '+']\n",
      "[100, 50, 5, '+', '-', 4, 3, '/', '*', 7, '+']\n",
      "[100, 50, '+', 5, '-', 4, 3, '/', '*', 7, '+']\n",
      "[100, 50, 5, 4, '/', '+', '-', 3, '*', 7, '+']\n",
      "[100, 50, 5, '/', 4, '+', '-', 3, '*', 7, '+']\n",
      "[100, 50, '+', 5, 4, '/', '-', 3, '*', 7, '+']\n",
      "[100, 50, 5, '/', '+', 4, '-', 3, '*', 7, '+']\n",
      "[100, 50, '/', 5, '+', 4, '-', 3, '*', 7, '+']\n"
     ]
    }
   ],
   "source": [
    "#new list of numbers that are hard set\n",
    "num_list = [100, 50, 5, 4, 3, 7]\n",
    "#using the built in operators (+,=,-,/)\n",
    "#ops = [operator.add, operator.mul, operator.sub, operator.add, operator.add]\n",
    "ops = ['+', '*', '-', '+', '/']\n",
    "for i in samples(num_list, ops):\n",
    "    print(i)"
   ]
  },
  {
   "cell_type": "code",
   "execution_count": 13,
   "metadata": {},
   "outputs": [],
   "source": [
    "#Reverse Polish Notation \n",
    "def reverse_Polish(r):\n",
    "    l = []\n",
    "    for i in r:\n",
    "        if isinstance(i, int):\n",
    "            l = l + [i]\n",
    "        else:\n",
    "            y = l[-1]\n",
    "            l = l[:-1]\n",
    "            x = l[-1]\n",
    "            l = l[:-1]\n",
    "            # add operator to l\n",
    "            l = l + [i(x,y)]\n",
    "    return l[0]"
   ]
  },
  {
   "cell_type": "code",
   "execution_count": 14,
   "metadata": {},
   "outputs": [
    {
     "name": "stdout",
     "output_type": "stream",
     "text": [
      "-350 [100, 50, 5, 4, 3, 7, <built-in function add>, <built-in function add>, <built-in function sub>, <built-in function mul>, <built-in function add>]\n",
      "-350 [100, 50, 5, 4, 3, <built-in function add>, 7, <built-in function add>, <built-in function sub>, <built-in function mul>, <built-in function add>]\n",
      "50 [100, 50, 5, 4, <built-in function add>, 3, 7, <built-in function add>, <built-in function sub>, <built-in function mul>, <built-in function add>]\n",
      "350 [100, 50, 5, 4, 3, <built-in function add>, <built-in function add>, 7, <built-in function sub>, <built-in function mul>, <built-in function add>]\n",
      "350 [100, 50, 5, 4, <built-in function add>, 3, <built-in function add>, 7, <built-in function sub>, <built-in function mul>, <built-in function add>]\n",
      "730 [100, 50, 5, <built-in function sub>, 4, 3, 7, <built-in function add>, <built-in function add>, <built-in function mul>, <built-in function add>]\n",
      "730 [100, 50, 5, <built-in function sub>, 4, 3, <built-in function add>, 7, <built-in function add>, <built-in function mul>, <built-in function add>]\n",
      "510 [100, 50, 5, 4, <built-in function add>, <built-in function sub>, 3, 7, <built-in function add>, <built-in function mul>, <built-in function add>]\n",
      "610 [100, 50, 5, <built-in function add>, 4, <built-in function sub>, 3, 7, <built-in function add>, <built-in function mul>, <built-in function add>]\n",
      "366 [100, 50, 5, 4, 3, <built-in function add>, <built-in function add>, <built-in function sub>, 7, <built-in function mul>, <built-in function add>]\n",
      "366 [100, 50, 5, 4, <built-in function add>, 3, <built-in function add>, <built-in function sub>, 7, <built-in function mul>, <built-in function add>]\n",
      "436 [100, 50, 5, <built-in function add>, 4, 3, <built-in function add>, <built-in function sub>, 7, <built-in function mul>, <built-in function add>]\n",
      "492 [100, 50, 5, 4, <built-in function add>, <built-in function add>, 3, <built-in function sub>, 7, <built-in function mul>, <built-in function add>]\n",
      "492 [100, 50, 5, <built-in function add>, 4, <built-in function add>, 3, <built-in function sub>, 7, <built-in function mul>, <built-in function add>]\n",
      "4991 [100, 50, <built-in function mul>, 5, 4, 3, 7, <built-in function add>, <built-in function add>, <built-in function sub>, <built-in function add>]\n",
      "4991 [100, 50, <built-in function mul>, 5, 4, 3, <built-in function add>, 7, <built-in function add>, <built-in function sub>, <built-in function add>]\n",
      "4999 [100, 50, <built-in function mul>, 5, 4, <built-in function add>, 3, 7, <built-in function add>, <built-in function sub>, <built-in function add>]\n",
      "5005 [100, 50, <built-in function mul>, 5, 4, 3, <built-in function add>, <built-in function add>, 7, <built-in function sub>, <built-in function add>]\n",
      "5005 [100, 50, <built-in function mul>, 5, 4, <built-in function add>, 3, <built-in function add>, 7, <built-in function sub>, <built-in function add>]\n",
      "4514 [100, 50, 5, <built-in function sub>, <built-in function mul>, 4, 3, 7, <built-in function add>, <built-in function add>, <built-in function add>]\n",
      "4514 [100, 50, 5, <built-in function sub>, <built-in function mul>, 4, 3, <built-in function add>, 7, <built-in function add>, <built-in function add>]\n",
      "264 [100, 50, <built-in function sub>, 5, <built-in function mul>, 4, 3, 7, <built-in function add>, <built-in function add>, <built-in function add>]\n",
      "264 [100, 50, <built-in function sub>, 5, <built-in function mul>, 4, 3, <built-in function add>, 7, <built-in function add>, <built-in function add>]\n",
      "4110 [100, 50, 5, 4, <built-in function add>, <built-in function sub>, <built-in function mul>, 3, 7, <built-in function add>, <built-in function add>]\n",
      "5110 [100, 50, 5, <built-in function add>, 4, <built-in function sub>, <built-in function mul>, 3, 7, <built-in function add>, <built-in function add>]\n",
      "460 [100, 50, <built-in function sub>, 5, 4, <built-in function add>, <built-in function mul>, 3, 7, <built-in function add>, <built-in function add>]\n",
      "190 [100, 50, 5, <built-in function add>, <built-in function sub>, 4, <built-in function mul>, 3, 7, <built-in function add>, <built-in function add>]\n",
      "590 [100, 50, <built-in function add>, 5, <built-in function sub>, 4, <built-in function mul>, 3, 7, <built-in function add>, <built-in function add>]\n",
      "3807 [100, 50, 5, 4, 3, <built-in function add>, <built-in function add>, <built-in function sub>, <built-in function mul>, 7, <built-in function add>]\n",
      "3807 [100, 50, 5, 4, <built-in function add>, 3, <built-in function add>, <built-in function sub>, <built-in function mul>, 7, <built-in function add>]\n",
      "4807 [100, 50, 5, <built-in function add>, 4, 3, <built-in function add>, <built-in function sub>, <built-in function mul>, 7, <built-in function add>]\n",
      "5607 [100, 50, 5, 4, <built-in function add>, <built-in function add>, 3, <built-in function sub>, <built-in function mul>, 7, <built-in function add>]\n",
      "5607 [100, 50, 5, <built-in function add>, 4, <built-in function add>, 3, <built-in function sub>, <built-in function mul>, 7, <built-in function add>]\n",
      "607 [100, 50, <built-in function sub>, 5, 4, 3, <built-in function add>, <built-in function add>, <built-in function mul>, 7, <built-in function add>]\n",
      "607 [100, 50, <built-in function sub>, 5, 4, <built-in function add>, 3, <built-in function add>, <built-in function mul>, 7, <built-in function add>]\n",
      "322 [100, 50, 5, <built-in function add>, <built-in function sub>, 4, 3, <built-in function add>, <built-in function mul>, 7, <built-in function add>]\n",
      "1022 [100, 50, <built-in function add>, 5, <built-in function sub>, 4, 3, <built-in function add>, <built-in function mul>, 7, <built-in function add>]\n",
      "130 [100, 50, 5, 4, <built-in function add>, <built-in function add>, <built-in function sub>, 3, <built-in function mul>, 7, <built-in function add>]\n",
      "130 [100, 50, 5, <built-in function add>, 4, <built-in function add>, <built-in function sub>, 3, <built-in function mul>, 7, <built-in function add>]\n",
      "430 [100, 50, <built-in function add>, 5, 4, <built-in function add>, <built-in function sub>, 3, <built-in function mul>, 7, <built-in function add>]\n",
      "460 [100, 50, 5, <built-in function add>, <built-in function add>, 4, <built-in function sub>, 3, <built-in function mul>, 7, <built-in function add>]\n",
      "460 [100, 50, <built-in function add>, 5, <built-in function add>, 4, <built-in function sub>, 3, <built-in function mul>, 7, <built-in function add>]\n"
     ]
    }
   ],
   "source": [
    "#new list of numbers that are hard set\n",
    "num_list = [100, 50, 5, 4, 3, 7]\n",
    "#using the built in operators (+,=,-,/)\n",
    "ops = [operator.add, operator.mul, operator.sub, operator.add, operator.add]\n",
    "for i in samples(num_list, ops):\n",
    "    print(reverse_Polish(i), i)"
   ]
  },
  {
   "cell_type": "markdown",
   "metadata": {},
   "source": [
    "***\n",
    "### Solver for Countdown Game"
   ]
  },
  {
   "cell_type": "code",
   "execution_count": 16,
   "metadata": {},
   "outputs": [],
   "source": [
    "from itertools import combinations,combinations_with_replacement, permutations, product\n",
    "# operators for the add,mul,div,sub\n",
    "import operator\n",
    "# pandas Data Analysis\n",
    "import pandas as pd\n",
    "# numpy lib\n",
    "import numpy as np"
   ]
  },
  {
   "cell_type": "code",
   "execution_count": 17,
   "metadata": {},
   "outputs": [],
   "source": [
    "def operator_Sign(signs):\n",
    "    out = ()\n",
    "    signs = {\n",
    "        operator.sub:' - ',\n",
    "        operator.mul:' * ',\n",
    "        operator.truediv: ' / ',\n",
    "        operator.add: ' + '\n",
    "    }\n",
    "    \n",
    "    for i in signs:\n",
    "        out += (signs[i])\n",
    "    yield out"
   ]
  },
  {
   "cell_type": "code",
   "execution_count": 22,
   "metadata": {},
   "outputs": [],
   "source": [
    "#Solution to the game\n",
    "def find_solution(target, number_pile):\n",
    "    # list of operators\n",
    "    operators = [operator.add, operator.sub, operator.truediv, operator.mul]\n",
    "    out = []\n",
    "    \n",
    "    #different combinations and answers \n",
    "    for i in range(2, 7):\n",
    "        combos = [f for f in permutations(number_pile, i)]\n",
    "        opr_combos = [f for f in product(operators, repeat=i - 1)]\n",
    "\n",
    "        # add answers to this list\n",
    "        res = []\n",
    "        for c in combos:\n",
    "            for o in opr_combos:\n",
    "                answer = o[0](*c[0:2])\n",
    "                for key, pos in enumerate(range(2,i)):\n",
    "                    answer = o[pos-1](answer, c[pos])\n",
    "                    \n",
    "                res.append((c, o, answer))\n",
    "\n",
    "        out += res\n",
    "\n",
    "    # calculate possible answers\n",
    "    values = np.abs(target - pd.Series([f[2] for f in out]))\n",
    "    results = pd.Series(out)[values == values.min()]\n",
    "\n",
    "    print(f'Target to get to {target}:')\n",
    "\n",
    "    # print symbols set up earlier\n",
    "    end = []\n",
    "    for i in results.values:\n",
    "        signs = operator_Sign(i[1])\n",
    "        listed = list(i[0])\n",
    "        for p in range(len(i[0])):\n",
    "            try:\n",
    "                listed.insert(p+1+p, signs[p])\n",
    "            except:\n",
    "                continue\n",
    "        listed = ''.join([str(f) for f in listed])\n",
    "        #end.append(f'{listed} = {i[2]}')\n",
    "        end.append(f'{listed} = {i[2]}')\n",
    "\n",
    "    print(pd.Series(end).drop_duplicates())"
   ]
  },
  {
   "cell_type": "code",
   "execution_count": 23,
   "metadata": {},
   "outputs": [
    {
     "name": "stdout",
     "output_type": "stream",
     "text": [
      "Target to get to 193:\n",
      "0       100325501 = 193.0\n",
      "1       100350251 = 193.0\n",
      "2       501100253 = 193.0\n",
      "3      5011007525 = 193.0\n",
      "4       501251003 = 193.0\n",
      "5     10025350751 = 193.0\n",
      "6     10025375501 = 193.0\n",
      "7     10050752531 = 193.0\n",
      "8     10050752513 = 193.0\n",
      "9     10032550751 = 193.0\n",
      "10    10032575501 = 193.0\n",
      "11    10031507525 = 193.0\n",
      "12    10013507525 = 193.0\n",
      "13    25100350751 = 193.0\n",
      "14    25100375501 = 193.0\n",
      "15    25753100501 = 193.0\n",
      "16    25753501001 = 193.0\n",
      "17    25310050751 = 193.0\n",
      "18    25310075501 = 193.0\n",
      "19    25375100501 = 193.0\n",
      "20    25375501001 = 193.0\n",
      "21    50100752531 = 193.0\n",
      "22    50100752513 = 193.0\n",
      "23    75253100501 = 193.0\n",
      "24    75253501001 = 193.0\n",
      "25    75325100501 = 193.0\n",
      "26    75325501001 = 193.0\n",
      "27    31002550751 = 193.0\n",
      "28    31002575501 = 193.0\n",
      "29    32510050751 = 193.0\n",
      "30    32510075501 = 193.0\n",
      "31    11003507525 = 193.0\n",
      "32    13100507525 = 193.0\n",
      "dtype: object\n"
     ]
    }
   ],
   "source": [
    "find_solution(target, play_nums)"
   ]
  },
  {
   "cell_type": "code",
   "execution_count": null,
   "metadata": {},
   "outputs": [],
   "source": []
  }
 ],
 "metadata": {
  "kernelspec": {
   "display_name": "Python 3",
   "language": "python",
   "name": "python3"
  },
  "language_info": {
   "codemirror_mode": {
    "name": "ipython",
    "version": 3
   },
   "file_extension": ".py",
   "mimetype": "text/x-python",
   "name": "python",
   "nbconvert_exporter": "python",
   "pygments_lexer": "ipython3",
   "version": "3.8.5"
  }
 },
 "nbformat": 4,
 "nbformat_minor": 4
}
